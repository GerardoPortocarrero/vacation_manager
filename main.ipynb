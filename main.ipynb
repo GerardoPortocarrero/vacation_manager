{
 "cells": [
  {
   "cell_type": "code",
   "execution_count": 447,
   "id": "8e3cae2c",
   "metadata": {},
   "outputs": [],
   "source": [
    "from pathlib import Path\n",
    "import importlib\n",
    "import warnings\n",
    "import time\n",
    "import os\n",
    "from datetime import datetime\n",
    "import time\n",
    "warnings.filterwarnings(\"ignore\")  # Oculta todos los warnings\n",
    "\n",
    "# Mis modulos\n",
    "import process_data as dp\n",
    "import transform_data as td\n",
    "import html_generator as hg"
   ]
  },
  {
   "cell_type": "code",
   "execution_count": 448,
   "id": "2573b8ae",
   "metadata": {},
   "outputs": [
    {
     "name": "stdout",
     "output_type": "stream",
     "text": [
      "\n",
      "  ____           _                   _      \n",
      " / ___| ___  ___| |_ ___  _ __    __| | ___ \n",
      "| |  _ / _ \\/ __| __/ _ \\| '__|  / _` |/ _ \\\n",
      "| |_| |  __/\\__ \\ || (_) | |    | (_| |  __/\n",
      " \\____|\\___||___/\\__\\___/|_|     \\__,_|\\___|\n",
      "\n",
      "__     __                   _                       \n",
      "\\ \\   / /_ _  ___ __ _  ___(_) ___  _ __   ___  ___ \n",
      " \\ \\ / / _` |/ __/ _` |/ __| |/ _ \\| '_ \\ / _ \\/ __|\n",
      "  \\ V / (_| | (_| (_| | (__| | (_) | | | |  __/\\__ \\\n",
      "   \\_/ \\__,_|\\___\\__,_|\\___|_|\\___/|_| |_|\\___||___/\n",
      "\n",
      "    💥 VISUALIZADOR Y EDITOR DE VACACIONES 💥\n",
      "\n",
      "\n"
     ]
    }
   ],
   "source": [
    "# import pyfiglet\n",
    "# print(pyfiglet.figlet_format(\"Gestor de Vacaciones\"))\n",
    "\n",
    "banner = r\"\"\"\n",
    "  ____           _                   _      \n",
    " / ___| ___  ___| |_ ___  _ __    __| | ___ \n",
    "| |  _ / _ \\/ __| __/ _ \\| '__|  / _` |/ _ \\\n",
    "| |_| |  __/\\__ \\ || (_) | |    | (_| |  __/\n",
    " \\____|\\___||___/\\__\\___/|_|     \\__,_|\\___|\n",
    "                                            \n",
    "__     __                   _                       \n",
    "\\ \\   / /_ _  ___ __ _  ___(_) ___  _ __   ___  ___ \n",
    " \\ \\ / / _` |/ __/ _` |/ __| |/ _ \\| '_ \\ / _ \\/ __|\n",
    "  \\ V / (_| | (_| (_| | (__| | (_) | | | |  __/\\__ \\\n",
    "   \\_/ \\__,_|\\___\\__,_|\\___|_|\\___/|_| |_|\\___||___/\n",
    "\n",
    "    💥 VISUALIZADOR Y EDITOR DE VACACIONES 💥\n",
    "\"\"\"\n",
    "\n",
    "print(banner, end='\\n\\n')\n",
    "time.sleep(1)"
   ]
  },
  {
   "cell_type": "code",
   "execution_count": 449,
   "id": "8ae20a73",
   "metadata": {},
   "outputs": [],
   "source": [
    "# Constantes\n",
    "this_year = datetime.today().date().year\n",
    "\n",
    "# Diccionarios\n",
    "months = {\n",
    "    1: 'Enero', 2: 'Febrero', 3: 'Marzo', 4: 'Abril', 5: 'Mayo', 6: 'Junio',\n",
    "    7: 'Julio', 8: 'Agosto', 9: 'Septiembre', 10: 'Octubre', \n",
    "    11: 'Noviembre', 12: 'Diciembre'\n",
    "}\n",
    "vacaciones = {\n",
    "    \"name\": \"Gestor de Vacaciones\",\n",
    "    \"file_name_xlsx\": \"DATOS_VACACIONES_2020-2025.xlsx\",\n",
    "    \"file_name_csv\": \"vacaciones_data.csv\",\n",
    "    \"sheet_name\": \"DATOS\",\n",
    "    \"relevant_columns\": [\n",
    "        'APELLIDOS',\n",
    "        'NOMBRES',\n",
    "        'DNI',\n",
    "        'CARGO',\n",
    "        'Fecha Ingreso',\n",
    "        'Vacaciones 2020-2021',\n",
    "        'Vacaciones 2021-2022',\n",
    "        'Vacaciones 2022-2023',\n",
    "        'Vacaciones 2023-2024',\n",
    "        'Vacaciones 2024-2025',\n",
    "    ],\n",
    "    \"new_columns\": [\n",
    "        \"DIAS_ACUMULADOS\",\n",
    "        \"VACACIONES_GOZADAS\",\n",
    "        \"VACACION_GOZADA_ACTUAL\", # 3 estados (No vacaciono, esta vacacionando, por vacacionar)\n",
    "        \"VACACIONES_ACUMULADAS\", # Dias de vacaciones acumuladas que tiene pendiente para gozar\n",
    "    ]\n",
    "}\n",
    "VACACION_GOZADA_ACTUAL_ESTADOS = {\n",
    "    0: f\"Vacaciones no aplicables\",\n",
    "    1: f\"Vacaciones del {this_year} gozadas\",\n",
    "    2: \"Gozando vacaciones actualmente\",\n",
    "    3: f\"Vacaciones del {this_year} por gozar\",\n",
    "}\n",
    "\n",
    "# Listas\n",
    "\n",
    "# Constantes\n",
    "project_address = r\"C:\\Informacion\\Otros\\RRHH\\Automatizacion\\vacation_manager\""
   ]
  },
  {
   "cell_type": "markdown",
   "id": "524a35a9",
   "metadata": {},
   "source": [
    "### Procesamiento de datos"
   ]
  },
  {
   "cell_type": "code",
   "execution_count": 450,
   "id": "3419305e",
   "metadata": {},
   "outputs": [
    {
     "name": "stdout",
     "output_type": "stream",
     "text": [
      "Schema({'APELLIDOS': String, 'NOMBRES': String, 'DNI': Int64, 'CARGO': String, 'Fecha Ingreso': String, 'Vacaciones 2020-2021': String, 'Vacaciones 2021-2022': String, 'Vacaciones 2022-2023': String, 'Vacaciones 2023-2024': String, 'Vacaciones 2024-2025': String})\n"
     ]
    }
   ],
   "source": [
    "importlib.reload(dp)\n",
    "\n",
    "df = dp.main(project_address, vacaciones)"
   ]
  },
  {
   "cell_type": "markdown",
   "id": "471f6597",
   "metadata": {},
   "source": [
    "### Transformacion de datos"
   ]
  },
  {
   "cell_type": "code",
   "execution_count": null,
   "id": "daa1d1a3",
   "metadata": {},
   "outputs": [
    {
     "name": "stdout",
     "output_type": "stream",
     "text": [
      "EDWIN 120 3 38.55 > 1 mes > 1 semana\n",
      "ADOLFO SEBASTYAN 0 0 14.3 No aplica > 1 semana\n",
      "MICHAEL BRANDON 0 0 38.47 No aplica > 1 semana\n",
      "OSCAR RAUL 0 0 35.75 No aplica > 1 semana\n",
      "EDMUNDO 30 3 26.47 > 1 mes > 1 semana\n",
      "JAINER MARCELO 30 3 39.04 < 1 mes > 1 semana\n",
      "DEYBI MARCELO 0 0 41.42 No aplica > 1 semana\n",
      "HECTOR ADOLFO 120 3 29.01 < 1 mes > 1 semana\n",
      "FABIO ARTURO 0 0 38.14 No aplica > 1 semana\n",
      "ROBERTO 0 0 32.14 No aplica > 1 semana\n",
      "ANTHONY ROMEO 0 3 43.64 < 1 mes > 1 semana\n",
      "CESAR 60 2 39.04 No aplica > 1 semana\n",
      "JHON HEDER 0 0 41.42 No aplica > 1 semana\n",
      "GISELA SOLEDAD 60 1 6.49 No aplica > 1 semana\n",
      "YOEL GARRY 0 0 41.18 No aplica > 1 semana\n",
      "RODRIGO CANDIDO 30 1 4.6 No aplica > 1 semana\n",
      "JOSE ALBERTO 0 0 41.42 No aplica > 1 semana\n",
      "MIGUEL ANGEL 0 0 31.23 No aplica > 1 semana\n",
      "NELSON RAUL 60 3 20.63 > 1 mes > 1 semana\n",
      "ALFREDO LUCIO 60 1 9.86 No aplica > 1 semana\n",
      "ELEAZAR URIEL 0 0 33.95 No aplica > 1 semana\n",
      "RENATO ELEUTERIO 60 3 17.01 > 1 mes > 1 semana\n",
      "JUAN FREDY 150 1 -0.99 No aplica > 1 semana\n",
      "EDDIE GABRIEL 150 1 -11.18 No aplica > 1 semana\n",
      "MIGUEL ANGEL 0 0 42.25 No aplica > 1 semana\n",
      "KARINA JOSI 0 0 34.11 No aplica > 1 semana\n",
      "JACKSON 60 3 34.85 < 1 mes > 1 semana\n",
      "YEFRI ANDERSON 0 0 41.67 No aplica > 1 semana\n",
      "VIRGILIO 120 3 28.85 > 1 mes > 1 semana\n",
      "CAYETANO DONATO 90 3 19.32 < 1 mes > 1 semana\n",
      "JHOSEPH ANTONY 0 0 31.4 No aplica > 1 semana\n",
      "CRISTHIAN PAOLO 60 3 24.08 > 1 mes > 1 semana\n",
      "RONALD GONZALO 150 2 41.26 No aplica > 1 semana\n",
      "CARMELO REYNALDO 0 0 41.59 No aplica > 1 semana\n",
      "RUBEN 30 2 37.48 No aplica > 1 semana\n",
      "RAUL JESUS 0 0 41.42 No aplica > 1 semana\n",
      "STIFEN ADERLY 150 1 11.42 No aplica > 1 semana\n",
      "JORGE LUIS 0 0 41.42 No aplica > 1 semana\n",
      "FERNANDO JOSE 120 1 6.49 No aplica > 1 semana\n",
      "ANDRES OSCAR 60 1 4.77 No aplica > 1 semana\n",
      "RODRIGO ALONSO 30 3 23.92 > 1 mes > 1 semana\n",
      "JORGE FERNANDO 120 3 26.47 > 1 mes > 1 semana\n",
      "WILIAN YURI 150 2 26.47 No aplica > 1 semana\n",
      "JORGE LUIS 0 0 39.04 No aplica > 1 semana\n",
      "VICTOR ANGEL 90 3 33.29 > 1 mes > 1 semana\n",
      "EDWAR 0 3 39.04 > 1 mes > 1 semana\n",
      "MARISOL SILVANA 150 1 7.73 No aplica > 1 semana\n",
      "ANDRES MIGUEL 30 1 9.62 No aplica > 1 semana\n",
      "JESUS VIDAL 60 3 32.96 < 1 mes > 1 semana\n",
      "HECTOR 0 0 43.15 No aplica > 1 semana\n",
      "ALBERT JOSE 0 0 37.4 No aplica > 1 semana\n",
      "GIOVANI RODRIGO 0 0 35.84 No aplica > 1 semana\n",
      "ALFREDO 120 2 34.44 No aplica > 1 semana\n",
      "VICTOR MANUEL 30 3 19.97 > 1 mes > 1 semana\n",
      "KELY SOFIA 30 3 25.89 > 1 mes > 1 semana\n",
      "JOHNNY RICHARD 150 1 13.97 No aplica > 1 semana\n",
      "JOHNNY RICHARD 0 3 19.64 > 1 mes > 1 semana\n",
      "MICHAEL ALEJANDRO 0 0 33.95 No aplica > 1 semana\n",
      "LEON APOLINARIO 120 3 38.79 > 1 mes > 1 semana\n",
      "GEYNER MANUEL 0 0 31.4 No aplica > 1 semana\n",
      "LUIS ALBERTO 0 0 41.42 No aplica > 1 semana\n",
      "ANA LUZ 120 3 14.71 > 1 mes > 1 semana\n",
      "ROBIN WILFREDO 120 3 18.9 > 1 mes > 1 semana\n",
      "BRYAN ESTEBAN 0 0 31.89 No aplica > 1 semana\n",
      "DIEGO EDUARDO 0 0 42.25 No aplica > 1 semana\n",
      "SUJETO 60 3 29.59 < 1 semana < 1 semana\n"
     ]
    }
   ],
   "source": [
    "importlib.reload(td)\n",
    "\n",
    "df = td.main(df)"
   ]
  },
  {
   "cell_type": "markdown",
   "id": "475a13ef",
   "metadata": {},
   "source": [
    "### Generar reporte personal"
   ]
  },
  {
   "cell_type": "code",
   "execution_count": 453,
   "id": "25f25df8",
   "metadata": {},
   "outputs": [
    {
     "name": "stdout",
     "output_type": "stream",
     "text": [
      "shape: (1, 21)\n",
      "┌─────┬─────┬─────┬─────┬─────┬─────┬─────┬─────┬─────┬─────┬─────┬─────┬─────┬─────┬─────┬─────┬─────┬─────┬─────┬─────┬─────┐\n",
      "│ APE ┆ NOM ┆ DNI ┆ CAR ┆ Fec ┆ Vac ┆ Vac ┆ Vac ┆ Vac ┆ Vac ┆ NOM ┆ DIA ┆ VAC ┆ VAC ┆ VAC ┆ DIA ┆ ALE ┆ ANI ┆ PRO ┆ DIA ┆ ALE │\n",
      "│ LLI ┆ BRE ┆ --- ┆ GO  ┆ ha  ┆ aci ┆ aci ┆ aci ┆ aci ┆ aci ┆ BRE ┆ S_A ┆ ACI ┆ ACI ┆ ACI ┆ S_P ┆ RTA ┆ VER ┆ XIM ┆ S_P ┆ RTA │\n",
      "│ DOS ┆ S   ┆ i64 ┆ --- ┆ Ing ┆ one ┆ one ┆ one ┆ one ┆ one ┆ _CO ┆ CUM ┆ ONE ┆ ON_ ┆ ONE ┆ ARA ┆ _VA ┆ SAR ┆ O_A ┆ ARA ┆ _AN │\n",
      "│ --- ┆ --- ┆     ┆ str ┆ res ┆ s   ┆ s   ┆ s   ┆ s   ┆ s   ┆ MPL ┆ ULA ┆ S_G ┆ GOZ ┆ S_A ┆ _VA ┆ CAC ┆ IO_ ┆ NIV ┆ _AN ┆ IVE │\n",
      "│ str ┆ str ┆     ┆     ┆ o   ┆ 202 ┆ 202 ┆ 202 ┆ 202 ┆ 202 ┆ ETO ┆ DOS ┆ OZA ┆ ADA ┆ CUM ┆ CAC ┆ ION ┆ TEM ┆ ERS ┆ IVE ┆ RSA │\n",
      "│     ┆     ┆     ┆     ┆ --- ┆ 0-2 ┆ 1-2 ┆ 2-2 ┆ 3-2 ┆ 4-2 ┆ --- ┆ --- ┆ DAS ┆ _AC ┆ ULA ┆ ION ┆ ES  ┆ P   ┆ ARI ┆ RSA ┆ RIO │\n",
      "│     ┆     ┆     ┆     ┆ dat ┆ 021 ┆ 022 ┆ 023 ┆ 024 ┆ 025 ┆ str ┆ i64 ┆ --- ┆ TUA ┆ DAS ┆ ES  ┆ --- ┆ --- ┆ O   ┆ RIO ┆ --- │\n",
      "│     ┆     ┆     ┆     ┆ eti ┆ --- ┆ --- ┆ --- ┆ --- ┆ --- ┆     ┆     ┆ i32 ┆ L   ┆ --- ┆ --- ┆ str ┆ dat ┆ --- ┆ --- ┆ str │\n",
      "│     ┆     ┆     ┆     ┆ me[ ┆ dat ┆ dat ┆ dat ┆ dat ┆ dat ┆     ┆     ┆     ┆ --- ┆ f64 ┆ i64 ┆     ┆ eti ┆ dat ┆ i64 ┆     │\n",
      "│     ┆     ┆     ┆     ┆ μs] ┆ eti ┆ eti ┆ eti ┆ eti ┆ eti ┆     ┆     ┆     ┆ i32 ┆     ┆     ┆     ┆ me[ ┆ eti ┆     ┆     │\n",
      "│     ┆     ┆     ┆     ┆     ┆ me[ ┆ me[ ┆ me[ ┆ me[ ┆ me[ ┆     ┆     ┆     ┆     ┆     ┆     ┆     ┆ μs] ┆ me[ ┆     ┆     │\n",
      "│     ┆     ┆     ┆     ┆     ┆ μs] ┆ μs] ┆ μs] ┆ μs] ┆ μs] ┆     ┆     ┆     ┆     ┆     ┆     ┆     ┆     ┆ μs] ┆     ┆     │\n",
      "╞═════╪═════╪═════╪═════╪═════╪═════╪═════╪═════╪═════╪═════╪═════╪═════╪═════╪═════╪═════╪═════╪═════╪═════╪═════╪═════╪═════╡\n",
      "│ DE  ┆ SUJ ┆ 0   ┆ ASE ┆ 202 ┆ nul ┆ nul ┆ 202 ┆ 202 ┆ 202 ┆ SUJ ┆ 109 ┆ 60  ┆ 3   ┆ 29. ┆ 5   ┆ < 1 ┆ 202 ┆ 202 ┆ 5   ┆ < 1 │\n",
      "│ PRU ┆ ETO ┆     ┆ SOR ┆ 2-0 ┆ l   ┆ l   ┆ 3-0 ┆ 4-0 ┆ 5-0 ┆ ETO ┆ 1   ┆     ┆     ┆ 59  ┆     ┆ sem ┆ 5-0 ┆ 5-0 ┆     ┆ sem │\n",
      "│ EBA ┆     ┆     ┆ UNI ┆ 6-2 ┆     ┆     ┆ 9-0 ┆ 6-0 ┆ 6-2 ┆ DE  ┆     ┆     ┆     ┆     ┆     ┆ ana ┆ 6-2 ┆ 6-2 ┆     ┆ ana │\n",
      "│     ┆     ┆     ┆ VER ┆ 4   ┆     ┆     ┆ 1   ┆ 1   ┆ 4   ┆ PRU ┆     ┆     ┆     ┆     ┆     ┆     ┆ 4   ┆ 4   ┆     ┆     │\n",
      "│     ┆     ┆     ┆ SAL ┆ 00: ┆     ┆     ┆ 00: ┆ 00: ┆ 00: ┆ EBA ┆     ┆     ┆     ┆     ┆     ┆     ┆ 00: ┆ 00: ┆     ┆     │\n",
      "│     ┆     ┆     ┆     ┆ 00: ┆     ┆     ┆ 00: ┆ 00: ┆ 00: ┆     ┆     ┆     ┆     ┆     ┆     ┆     ┆ 00: ┆ 00: ┆     ┆     │\n",
      "│     ┆     ┆     ┆     ┆ 00  ┆     ┆     ┆ 00  ┆ 00  ┆ 00  ┆     ┆     ┆     ┆     ┆     ┆     ┆     ┆ 00  ┆ 00  ┆     ┆     │\n",
      "└─────┴─────┴─────┴─────┴─────┴─────┴─────┴─────┴─────┴─────┴─────┴─────┴─────┴─────┴─────┴─────┴─────┴─────┴─────┴─────┴─────┘\n"
     ]
    }
   ],
   "source": [
    "import polars as pl\n",
    "with pl.Config(tbl_cols=-1):\n",
    "    print(df.filter(pl.col(\"DNI\") == 0000000))\n",
    "\n",
    "importlib.reload(hg)\n",
    "\n",
    "html_resultado = hg.main(project_address, df, VACACION_GOZADA_ACTUAL_ESTADOS, 00000000)"
   ]
  },
  {
   "cell_type": "markdown",
   "id": "2d1db6a6",
   "metadata": {},
   "source": [
    "### Reporte de Alerta 1 (a una semana a entrar a vacaciones)"
   ]
  },
  {
   "cell_type": "code",
   "execution_count": null,
   "id": "918a8f6c",
   "metadata": {},
   "outputs": [],
   "source": []
  },
  {
   "cell_type": "markdown",
   "id": "302104ad",
   "metadata": {},
   "source": [
    "### Reporte de Alerta 2 (a una semana de cumplir aniversario)"
   ]
  }
 ],
 "metadata": {
  "kernelspec": {
   "display_name": "Python 3",
   "language": "python",
   "name": "python3"
  },
  "language_info": {
   "codemirror_mode": {
    "name": "ipython",
    "version": 3
   },
   "file_extension": ".py",
   "mimetype": "text/x-python",
   "name": "python",
   "nbconvert_exporter": "python",
   "pygments_lexer": "ipython3",
   "version": "3.13.3"
  }
 },
 "nbformat": 4,
 "nbformat_minor": 5
}
