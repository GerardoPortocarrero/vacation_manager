{
 "cells": [
  {
   "cell_type": "code",
   "execution_count": 248,
   "id": "8e3cae2c",
   "metadata": {},
   "outputs": [],
   "source": [
    "from pathlib import Path\n",
    "import importlib\n",
    "import warnings\n",
    "import time\n",
    "import os\n",
    "from datetime import datetime\n",
    "import time\n",
    "warnings.filterwarnings(\"ignore\")  # Oculta todos los warnings\n",
    "\n",
    "# Mis modulos\n",
    "import process_data as dp\n",
    "import transform_data as td\n",
    "import html_generator as hg"
   ]
  },
  {
   "cell_type": "code",
   "execution_count": 249,
   "id": "2573b8ae",
   "metadata": {},
   "outputs": [
    {
     "name": "stdout",
     "output_type": "stream",
     "text": [
      "\n",
      "  ____           _                   _      \n",
      " / ___| ___  ___| |_ ___  _ __    __| | ___ \n",
      "| |  _ / _ \\/ __| __/ _ \\| '__|  / _` |/ _ \\\n",
      "| |_| |  __/\\__ \\ || (_) | |    | (_| |  __/\n",
      " \\____|\\___||___/\\__\\___/|_|     \\__,_|\\___|\n",
      "\n",
      "__     __                   _                       \n",
      "\\ \\   / /_ _  ___ __ _  ___(_) ___  _ __   ___  ___ \n",
      " \\ \\ / / _` |/ __/ _` |/ __| |/ _ \\| '_ \\ / _ \\/ __|\n",
      "  \\ V / (_| | (_| (_| | (__| | (_) | | | |  __/\\__ \\\n",
      "   \\_/ \\__,_|\\___\\__,_|\\___|_|\\___/|_| |_|\\___||___/\n",
      "\n",
      "    💥 VISUALIZADOR Y EDITOR DE VACACIONES 💥\n",
      "\n",
      "\n"
     ]
    }
   ],
   "source": [
    "# import pyfiglet\n",
    "# print(pyfiglet.figlet_format(\"Gestor de Vacaciones\"))\n",
    "\n",
    "banner = r\"\"\"\n",
    "  ____           _                   _      \n",
    " / ___| ___  ___| |_ ___  _ __    __| | ___ \n",
    "| |  _ / _ \\/ __| __/ _ \\| '__|  / _` |/ _ \\\n",
    "| |_| |  __/\\__ \\ || (_) | |    | (_| |  __/\n",
    " \\____|\\___||___/\\__\\___/|_|     \\__,_|\\___|\n",
    "                                            \n",
    "__     __                   _                       \n",
    "\\ \\   / /_ _  ___ __ _  ___(_) ___  _ __   ___  ___ \n",
    " \\ \\ / / _` |/ __/ _` |/ __| |/ _ \\| '_ \\ / _ \\/ __|\n",
    "  \\ V / (_| | (_| (_| | (__| | (_) | | | |  __/\\__ \\\n",
    "   \\_/ \\__,_|\\___\\__,_|\\___|_|\\___/|_| |_|\\___||___/\n",
    "\n",
    "    💥 VISUALIZADOR Y EDITOR DE VACACIONES 💥\n",
    "\"\"\"\n",
    "\n",
    "print(banner, end='\\n\\n')\n",
    "time.sleep(1)"
   ]
  },
  {
   "cell_type": "code",
   "execution_count": 250,
   "id": "8ae20a73",
   "metadata": {},
   "outputs": [],
   "source": [
    "# Constantes\n",
    "this_year = datetime.today().date().year\n",
    "\n",
    "# Diccionarios\n",
    "months = {\n",
    "    1: 'Enero', 2: 'Febrero', 3: 'Marzo', 4: 'Abril', 5: 'Mayo', 6: 'Junio',\n",
    "    7: 'Julio', 8: 'Agosto', 9: 'Septiembre', 10: 'Octubre', \n",
    "    11: 'Noviembre', 12: 'Diciembre'\n",
    "}\n",
    "vacaciones = {\n",
    "    \"name\": \"Gestor de Vacaciones\",\n",
    "    \"file_name_xlsx\": \"DATOS_VACACIONES_2020-2025.xlsx\",\n",
    "    \"file_name_csv\": \"vacaciones_data.csv\",\n",
    "    \"sheet_name\": \"DATOS\",\n",
    "    \"relevant_columns\": [\n",
    "        'APELLIDOS',\n",
    "        'NOMBRES',\n",
    "        'DNI',\n",
    "        'CARGO',\n",
    "        'Fecha Ingreso',\n",
    "        'Vacaciones 2020-2021',\n",
    "        'Vacaciones 2021-2022',\n",
    "        'Vacaciones 2022-2023',\n",
    "        'Vacaciones 2023-2024',\n",
    "        'Vacaciones 2024-2025',\n",
    "    ],\n",
    "    \"new_columns\": [\n",
    "        \"DIAS_ACUMULADOS\",\n",
    "        \"VACACIONES_GOZADAS\",\n",
    "        \"VACACION_GOZADA_ACTUAL\", # 3 estados (No vacaciono, esta vacacionando, por vacacionar)\n",
    "        \"VACACIONES_PENDIENTES\", # Dias de vacaciones acumuladas que tiene pendiente para gozar\n",
    "    ]\n",
    "}\n",
    "VACACION_GOZADA_ACTUAL_ESTADOS = {\n",
    "    0: f\"Vacaciones no aplicables\",\n",
    "    1: f\"Vacaciones del {this_year} gozadas\",\n",
    "    2: \"Gozando vacaciones actualmente\",\n",
    "    3: f\"Vacaciones del {this_year} por gozar\",\n",
    "}\n",
    "\n",
    "# Listas\n",
    "\n",
    "# Constantes\n",
    "project_address = r\"C:\\Informacion\\Otros\\RRHH\\Automatizacion\\vacation_manager\""
   ]
  },
  {
   "cell_type": "markdown",
   "id": "524a35a9",
   "metadata": {},
   "source": [
    "### Procesamiento de datos"
   ]
  },
  {
   "cell_type": "code",
   "execution_count": 251,
   "id": "3419305e",
   "metadata": {},
   "outputs": [
    {
     "name": "stdout",
     "output_type": "stream",
     "text": [
      "Schema({'APELLIDOS': String, 'NOMBRES': String, 'DNI': Int64, 'CARGO': String, 'Fecha Ingreso': String, 'Vacaciones 2020-2021': String, 'Vacaciones 2021-2022': String, 'Vacaciones 2022-2023': String, 'Vacaciones 2023-2024': String, 'Vacaciones 2024-2025': String})\n"
     ]
    }
   ],
   "source": [
    "importlib.reload(dp)\n",
    "\n",
    "df = dp.main(project_address, vacaciones)"
   ]
  },
  {
   "cell_type": "markdown",
   "id": "471f6597",
   "metadata": {},
   "source": [
    "### Transformacion de datos"
   ]
  },
  {
   "cell_type": "code",
   "execution_count": 252,
   "id": "daa1d1a3",
   "metadata": {},
   "outputs": [
    {
     "name": "stdout",
     "output_type": "stream",
     "text": [
      "EDWIN 120 3 38.55 > 1 mes Lejos de aniversario\n",
      "ADOLFO SEBASTYAN 0 0 14.3 No aplica Lejos de aniversario\n",
      "MICHAEL BRANDON 0 0 38.47 No aplica Lejos de aniversario\n",
      "OSCAR RAUL 0 0 35.75 No aplica Lejos de aniversario\n",
      "EDMUNDO 30 3 26.47 > 1 mes Lejos de aniversario\n",
      "JAINER MARCELO 30 3 39.04 < 1 mes Lejos de aniversario\n",
      "DEYBI MARCELO 0 0 41.42 No aplica Lejos de aniversario\n",
      "HECTOR ADOLFO 120 3 29.01 < 1 mes Lejos de aniversario\n",
      "FABIO ARTURO 0 0 38.14 No aplica Lejos de aniversario\n",
      "ROBERTO 0 0 32.14 No aplica Lejos de aniversario\n",
      "ANTHONY ROMEO 0 3 43.64 < 1 mes Lejos de aniversario\n",
      "CESAR 60 2 9.04 No aplica Lejos de aniversario\n",
      "JHON HEDER 0 0 41.42 No aplica Lejos de aniversario\n",
      "GISELA SOLEDAD 60 1 6.49 No aplica Lejos de aniversario\n",
      "YOEL GARRY 0 0 41.18 No aplica Lejos de aniversario\n",
      "RODRIGO CANDIDO 30 1 4.6 No aplica Lejos de aniversario\n",
      "JOSE ALBERTO 0 0 41.42 No aplica Lejos de aniversario\n",
      "MIGUEL ANGEL 0 0 31.23 No aplica Lejos de aniversario\n",
      "NELSON RAUL 60 3 20.63 > 1 mes Lejos de aniversario\n",
      "ALFREDO LUCIO 60 1 9.86 No aplica Lejos de aniversario\n",
      "ELEAZAR URIEL 0 0 33.95 No aplica Lejos de aniversario\n",
      "RENATO ELEUTERIO 60 3 17.01 > 1 mes Lejos de aniversario\n",
      "JUAN FREDY 150 1 -0.99 No aplica Lejos de aniversario\n",
      "EDDIE GABRIEL 150 1 -11.18 No aplica Lejos de aniversario\n",
      "MIGUEL ANGEL 0 0 42.25 No aplica Lejos de aniversario\n",
      "KARINA JOSI 0 0 34.11 No aplica Lejos de aniversario\n",
      "JACKSON 60 3 34.85 < 1 mes Lejos de aniversario\n",
      "YEFRI ANDERSON 0 0 41.67 No aplica Lejos de aniversario\n",
      "VIRGILIO 120 3 28.85 > 1 mes Lejos de aniversario\n",
      "CAYETANO DONATO 90 3 19.32 < 1 mes Lejos de aniversario\n",
      "JHOSEPH ANTONY 0 0 31.4 No aplica Lejos de aniversario\n",
      "CRISTHIAN PAOLO 60 3 24.08 > 1 mes Lejos de aniversario\n",
      "RONALD GONZALO 150 2 11.26 No aplica Lejos de aniversario\n",
      "CARMELO REYNALDO 0 0 41.59 No aplica Lejos de aniversario\n",
      "RUBEN 30 2 7.48 No aplica Lejos de aniversario\n",
      "RAUL JESUS 0 0 41.42 No aplica Lejos de aniversario\n",
      "STIFEN ADERLY 150 1 11.42 No aplica Lejos de aniversario\n",
      "JORGE LUIS 0 0 41.42 No aplica Lejos de aniversario\n",
      "FERNANDO JOSE 120 1 6.49 No aplica Lejos de aniversario\n",
      "ANDRES OSCAR 60 1 4.77 No aplica Lejos de aniversario\n",
      "RODRIGO ALONSO 30 3 23.92 > 1 mes Lejos de aniversario\n",
      "JORGE FERNANDO 120 3 26.47 > 1 mes Lejos de aniversario\n",
      "WILIAN YURI 150 2 -3.53 No aplica Lejos de aniversario\n",
      "JORGE LUIS 0 0 39.04 No aplica Lejos de aniversario\n",
      "VICTOR ANGEL 90 3 33.29 > 1 mes Lejos de aniversario\n",
      "EDWAR 0 3 39.04 > 1 mes Lejos de aniversario\n",
      "MARISOL SILVANA 150 1 7.73 No aplica Lejos de aniversario\n",
      "ANDRES MIGUEL 30 1 9.62 No aplica Lejos de aniversario\n",
      "JESUS VIDAL 60 3 32.96 < 1 mes Lejos de aniversario\n",
      "HECTOR 0 0 43.15 No aplica Lejos de aniversario\n",
      "ALBERT JOSE 0 0 37.4 No aplica Lejos de aniversario\n",
      "GIOVANI RODRIGO 0 0 35.84 No aplica Lejos de aniversario\n",
      "ALFREDO 120 2 4.44 No aplica Lejos de aniversario\n",
      "VICTOR MANUEL 30 3 19.97 > 1 mes Lejos de aniversario\n",
      "KELY SOFIA 30 3 25.89 > 1 mes Lejos de aniversario\n",
      "JOHNNY RICHARD 150 1 13.97 No aplica Lejos de aniversario\n",
      "JOHNNY RICHARD 0 3 19.64 > 1 mes Lejos de aniversario\n",
      "MICHAEL ALEJANDRO 0 0 33.95 No aplica Lejos de aniversario\n",
      "LEON APOLINARIO 120 3 38.79 > 1 mes Lejos de aniversario\n",
      "GEYNER MANUEL 0 0 31.4 No aplica Lejos de aniversario\n",
      "LUIS ALBERTO 0 0 41.42 No aplica Lejos de aniversario\n",
      "ANA LUZ 120 3 14.71 > 1 mes Lejos de aniversario\n",
      "ROBIN WILFREDO 120 3 18.9 > 1 mes Lejos de aniversario\n",
      "BRYAN ESTEBAN 0 0 31.89 No aplica Lejos de aniversario\n",
      "DIEGO EDUARDO 0 0 42.25 No aplica Lejos de aniversario\n"
     ]
    }
   ],
   "source": [
    "importlib.reload(td)\n",
    "\n",
    "df = td.main(df)\n",
    "\n",
    "for x in df.select(['NOMBRES', 'VACACIONES_GOZADAS', 'VACACION_GOZADA_ACTUAL', 'VACACIONES_PENDIENTES', 'PROXIMO_A_VACACIONES', 'ALERTA_ANIVERSARIO']).iter_rows():\n",
    "    print(x[0], x[1], x[2], x[3], x[4], x[5])"
   ]
  },
  {
   "cell_type": "markdown",
   "id": "475a13ef",
   "metadata": {},
   "source": [
    "### Generar reporte personal"
   ]
  },
  {
   "cell_type": "code",
   "execution_count": null,
   "id": "25f25df8",
   "metadata": {},
   "outputs": [
    {
     "name": "stdout",
     "output_type": "stream",
     "text": [
      "shape: (1, 23)\n",
      "┌────────────┬─────────┬──────────┬────────────┬───┬───────────┬───────────┬───────────┬───────────┐\n",
      "│ APELLIDOS  ┆ NOMBRES ┆ DNI      ┆ CARGO      ┆ … ┆ ANIVERSAR ┆ PROXIMO_A ┆ DIAS_PARA ┆ ALERTA_AN │\n",
      "│ ---        ┆ ---     ┆ ---      ┆ ---        ┆   ┆ IO_TEMP   ┆ NIVERSARI ┆ _ANIVERSA ┆ IVERSARIO │\n",
      "│ str        ┆ str     ┆ i64      ┆ str        ┆   ┆ ---       ┆ O         ┆ RIO       ┆ ---       │\n",
      "│            ┆         ┆          ┆            ┆   ┆ datetime[ ┆ ---       ┆ ---       ┆ str       │\n",
      "│            ┆         ┆          ┆            ┆   ┆ μs]       ┆ datetime[ ┆ i64       ┆           │\n",
      "│            ┆         ┆          ┆            ┆   ┆           ┆ μs]       ┆           ┆           │\n",
      "╞════════════╪═════════╪══════════╪════════════╪═══╪═══════════╪═══════════╪═══════════╪═══════════╡\n",
      "│ ALVARES    ┆ EDWIN   ┆ 70580389 ┆ CHOFER     ┆ … ┆ 2025-03-0 ┆ 2026-03-0 ┆ 261       ┆ Lejos de  │\n",
      "│ HUAMAN     ┆         ┆          ┆ VENDEDOR   ┆   ┆ 7         ┆ 7         ┆           ┆ aniversar │\n",
      "│            ┆         ┆          ┆            ┆   ┆ 00:00:00  ┆ 00:00:00  ┆           ┆ io        │\n",
      "└────────────┴─────────┴──────────┴────────────┴───┴───────────┴───────────┴───────────┴───────────┘\n"
     ]
    },
    {
     "ename": "TypeError",
     "evalue": "write() argument must be str, not None",
     "output_type": "error",
     "traceback": [
      "\u001b[31m---------------------------------------------------------------------------\u001b[39m",
      "\u001b[31mTypeError\u001b[39m                                 Traceback (most recent call last)",
      "\u001b[36mCell\u001b[39m\u001b[36m \u001b[39m\u001b[32mIn[253]\u001b[39m\u001b[32m, line 9\u001b[39m\n\u001b[32m      7\u001b[39m \u001b[38;5;66;03m# Guardar a archivo (opcional)\u001b[39;00m\n\u001b[32m      8\u001b[39m \u001b[38;5;28;01mwith\u001b[39;00m \u001b[38;5;28mopen\u001b[39m(\u001b[33m\"\u001b[39m\u001b[33mreporte_personal.html\u001b[39m\u001b[33m\"\u001b[39m, \u001b[33m\"\u001b[39m\u001b[33mw\u001b[39m\u001b[33m\"\u001b[39m, encoding=\u001b[33m\"\u001b[39m\u001b[33mutf-8\u001b[39m\u001b[33m\"\u001b[39m) \u001b[38;5;28;01mas\u001b[39;00m f:\n\u001b[32m----> \u001b[39m\u001b[32m9\u001b[39m     \u001b[43mf\u001b[49m\u001b[43m.\u001b[49m\u001b[43mwrite\u001b[49m\u001b[43m(\u001b[49m\u001b[43mhtml_resultado\u001b[49m\u001b[43m)\u001b[49m\n",
      "\u001b[31mTypeError\u001b[39m: write() argument must be str, not None"
     ]
    }
   ],
   "source": [
    "print(df['DNI' == 70580389])\n",
    "\n",
    "importlib.reload(hg)\n",
    "\n",
    "html_resultado = hg.main(project_address, df, VACACION_GOZADA_ACTUAL_ESTADOS, 70580389)"
   ]
  },
  {
   "cell_type": "markdown",
   "id": "2d1db6a6",
   "metadata": {},
   "source": [
    "### Reporte de Alerta 1 (a una semana a entrar a vacaciones)"
   ]
  },
  {
   "cell_type": "code",
   "execution_count": null,
   "id": "918a8f6c",
   "metadata": {},
   "outputs": [],
   "source": []
  },
  {
   "cell_type": "markdown",
   "id": "302104ad",
   "metadata": {},
   "source": [
    "### Reporte de Alerta 2 (a una semana de cumplir aniversario)"
   ]
  }
 ],
 "metadata": {
  "kernelspec": {
   "display_name": "Python 3",
   "language": "python",
   "name": "python3"
  },
  "language_info": {
   "codemirror_mode": {
    "name": "ipython",
    "version": 3
   },
   "file_extension": ".py",
   "mimetype": "text/x-python",
   "name": "python",
   "nbconvert_exporter": "python",
   "pygments_lexer": "ipython3",
   "version": "3.13.3"
  }
 },
 "nbformat": 4,
 "nbformat_minor": 5
}
