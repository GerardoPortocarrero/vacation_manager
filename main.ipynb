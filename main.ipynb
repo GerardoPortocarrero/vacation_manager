{
 "cells": [
  {
   "cell_type": "code",
   "execution_count": 492,
   "id": "8e3cae2c",
   "metadata": {},
   "outputs": [],
   "source": [
    "from pathlib import Path\n",
    "import importlib\n",
    "import warnings\n",
    "import time\n",
    "import os\n",
    "from datetime import datetime\n",
    "import time\n",
    "warnings.filterwarnings(\"ignore\")  # Oculta todos los warnings\n",
    "\n",
    "# Mis modulos\n",
    "import process_data as dp\n",
    "import transform_data as td\n",
    "import html_generator as hg"
   ]
  },
  {
   "cell_type": "code",
   "execution_count": 493,
   "id": "2573b8ae",
   "metadata": {},
   "outputs": [
    {
     "name": "stdout",
     "output_type": "stream",
     "text": [
      "\n",
      "  ____           _                   _      \n",
      " / ___| ___  ___| |_ ___  _ __    __| | ___ \n",
      "| |  _ / _ \\/ __| __/ _ \\| '__|  / _` |/ _ \\\n",
      "| |_| |  __/\\__ \\ || (_) | |    | (_| |  __/\n",
      " \\____|\\___||___/\\__\\___/|_|     \\__,_|\\___|\n",
      "\n",
      "__     __                   _                       \n",
      "\\ \\   / /_ _  ___ __ _  ___(_) ___  _ __   ___  ___ \n",
      " \\ \\ / / _` |/ __/ _` |/ __| |/ _ \\| '_ \\ / _ \\/ __|\n",
      "  \\ V / (_| | (_| (_| | (__| | (_) | | | |  __/\\__ \\\n",
      "   \\_/ \\__,_|\\___\\__,_|\\___|_|\\___/|_| |_|\\___||___/\n",
      "\n",
      "    💥 VISUALIZADOR Y EDITOR DE VACACIONES 💥\n",
      "\n",
      "\n"
     ]
    }
   ],
   "source": [
    "# import pyfiglet\n",
    "# print(pyfiglet.figlet_format(\"Gestor de Vacaciones\"))\n",
    "\n",
    "banner = r\"\"\"\n",
    "  ____           _                   _      \n",
    " / ___| ___  ___| |_ ___  _ __    __| | ___ \n",
    "| |  _ / _ \\/ __| __/ _ \\| '__|  / _` |/ _ \\\n",
    "| |_| |  __/\\__ \\ || (_) | |    | (_| |  __/\n",
    " \\____|\\___||___/\\__\\___/|_|     \\__,_|\\___|\n",
    "                                            \n",
    "__     __                   _                       \n",
    "\\ \\   / /_ _  ___ __ _  ___(_) ___  _ __   ___  ___ \n",
    " \\ \\ / / _` |/ __/ _` |/ __| |/ _ \\| '_ \\ / _ \\/ __|\n",
    "  \\ V / (_| | (_| (_| | (__| | (_) | | | |  __/\\__ \\\n",
    "   \\_/ \\__,_|\\___\\__,_|\\___|_|\\___/|_| |_|\\___||___/\n",
    "\n",
    "    💥 VISUALIZADOR Y EDITOR DE VACACIONES 💥\n",
    "\"\"\"\n",
    "\n",
    "print(banner, end='\\n\\n')\n",
    "time.sleep(1)"
   ]
  },
  {
   "cell_type": "code",
   "execution_count": 494,
   "id": "8ae20a73",
   "metadata": {},
   "outputs": [],
   "source": [
    "# Constantes\n",
    "this_year = datetime.today().date().year\n",
    "\n",
    "# Diccionarios\n",
    "months = {\n",
    "    1: 'Enero', 2: 'Febrero', 3: 'Marzo', 4: 'Abril', 5: 'Mayo', 6: 'Junio',\n",
    "    7: 'Julio', 8: 'Agosto', 9: 'Septiembre', 10: 'Octubre', \n",
    "    11: 'Noviembre', 12: 'Diciembre'\n",
    "}\n",
    "vacaciones = {\n",
    "    \"name\": \"Gestor de Vacaciones\",\n",
    "    \"file_name_xlsx\": \"DATOS_VACACIONES_2020-2025.xlsx\",\n",
    "    \"file_name_csv\": \"vacaciones_data.csv\",\n",
    "    \"sheet_name\": \"DATOS\",\n",
    "    \"relevant_columns\": [\n",
    "        'APELLIDOS',\n",
    "        'NOMBRES',\n",
    "        'DNI',\n",
    "        'CARGO',\n",
    "        'Fecha Ingreso',\n",
    "        'Vacaciones 2020-2021',\n",
    "        'Vacaciones 2021-2022',\n",
    "        'Vacaciones 2022-2023',\n",
    "        'Vacaciones 2023-2024',\n",
    "        'Vacaciones 2024-2025',\n",
    "    ],\n",
    "    \"new_columns\": [\n",
    "        \"DIAS_ACUMULADOS\",\n",
    "        \"VACACIONES_GOZADAS\",\n",
    "        \"VACACION_GOZADA_ACTUAL\", # 3 estados (No vacaciono, esta vacacionando, por vacacionar)\n",
    "        \"VACACIONES_ACUMULADAS\", # Dias de vacaciones acumuladas que tiene pendiente para gozar\n",
    "    ]\n",
    "}\n",
    "VACACION_GOZADA_ACTUAL_ESTADOS = {\n",
    "    0: f\"Vacaciones no aplicables\",\n",
    "    1: f\"Vacaciones {this_year} gozadas\",\n",
    "    2: \"Gozando vacaciones actualmente\",\n",
    "    3: f\"Vacaciones {this_year} por gozar\",\n",
    "}\n",
    "\n",
    "# Listas\n",
    "\n",
    "# Constantes\n",
    "project_address = r\"C:\\Informacion\\Otros\\RRHH\\Automatizacion\\vacation_manager\""
   ]
  },
  {
   "cell_type": "markdown",
   "id": "524a35a9",
   "metadata": {},
   "source": [
    "### Procesamiento de datos"
   ]
  },
  {
   "cell_type": "code",
   "execution_count": 495,
   "id": "3419305e",
   "metadata": {},
   "outputs": [],
   "source": [
    "importlib.reload(dp)\n",
    "\n",
    "df = dp.main(project_address, vacaciones)"
   ]
  },
  {
   "cell_type": "markdown",
   "id": "471f6597",
   "metadata": {},
   "source": [
    "### Transformacion de datos"
   ]
  },
  {
   "cell_type": "code",
   "execution_count": 496,
   "id": "daa1d1a3",
   "metadata": {},
   "outputs": [],
   "source": [
    "importlib.reload(td)\n",
    "\n",
    "df = td.main(df)"
   ]
  },
  {
   "cell_type": "markdown",
   "id": "475a13ef",
   "metadata": {},
   "source": [
    "### Generar reporte personal"
   ]
  },
  {
   "cell_type": "code",
   "execution_count": null,
   "id": "25f25df8",
   "metadata": {},
   "outputs": [
    {
     "name": "stdout",
     "output_type": "stream",
     "text": [
      "shape: (1, 21)\n",
      "┌─────┬─────┬─────┬─────┬─────┬─────┬─────┬─────┬─────┬─────┬─────┬─────┬─────┬─────┬─────┬─────┬─────┬─────┬─────┬─────┬─────┐\n",
      "│ APE ┆ NOM ┆ DNI ┆ CAR ┆ Fec ┆ Vac ┆ Vac ┆ Vac ┆ Vac ┆ Vac ┆ NOM ┆ DIA ┆ VAC ┆ VAC ┆ VAC ┆ DIA ┆ ALE ┆ ANI ┆ PRO ┆ DIA ┆ ALE │\n",
      "│ LLI ┆ BRE ┆ --- ┆ GO  ┆ ha  ┆ aci ┆ aci ┆ aci ┆ aci ┆ aci ┆ BRE ┆ S_A ┆ ACI ┆ ACI ┆ ACI ┆ S_P ┆ RTA ┆ VER ┆ XIM ┆ S_P ┆ RTA │\n",
      "│ DOS ┆ S   ┆ i64 ┆ --- ┆ Ing ┆ one ┆ one ┆ one ┆ one ┆ one ┆ _CO ┆ CUM ┆ ONE ┆ ON_ ┆ ONE ┆ ARA ┆ _VA ┆ SAR ┆ O_A ┆ ARA ┆ _AN │\n",
      "│ --- ┆ --- ┆     ┆ str ┆ res ┆ s   ┆ s   ┆ s   ┆ s   ┆ s   ┆ MPL ┆ ULA ┆ S_G ┆ GOZ ┆ S_A ┆ _VA ┆ CAC ┆ IO_ ┆ NIV ┆ _AN ┆ IVE │\n",
      "│ str ┆ str ┆     ┆     ┆ o   ┆ 202 ┆ 202 ┆ 202 ┆ 202 ┆ 202 ┆ ETO ┆ DOS ┆ OZA ┆ ADA ┆ CUM ┆ CAC ┆ ION ┆ TEM ┆ ERS ┆ IVE ┆ RSA │\n",
      "│     ┆     ┆     ┆     ┆ --- ┆ 0-2 ┆ 1-2 ┆ 2-2 ┆ 3-2 ┆ 4-2 ┆ --- ┆ --- ┆ DAS ┆ _AC ┆ ULA ┆ ION ┆ ES  ┆ P   ┆ ARI ┆ RSA ┆ RIO │\n",
      "│     ┆     ┆     ┆     ┆ dat ┆ 021 ┆ 022 ┆ 023 ┆ 024 ┆ 025 ┆ str ┆ i64 ┆ --- ┆ TUA ┆ DAS ┆ ES  ┆ --- ┆ --- ┆ O   ┆ RIO ┆ --- │\n",
      "│     ┆     ┆     ┆     ┆ eti ┆ --- ┆ --- ┆ --- ┆ --- ┆ --- ┆     ┆     ┆ i32 ┆ L   ┆ --- ┆ --- ┆ str ┆ dat ┆ --- ┆ --- ┆ str │\n",
      "│     ┆     ┆     ┆     ┆ me[ ┆ dat ┆ dat ┆ dat ┆ dat ┆ dat ┆     ┆     ┆     ┆ --- ┆ f64 ┆ i64 ┆     ┆ eti ┆ dat ┆ i64 ┆     │\n",
      "│     ┆     ┆     ┆     ┆ μs] ┆ eti ┆ eti ┆ eti ┆ eti ┆ eti ┆     ┆     ┆     ┆ i32 ┆     ┆     ┆     ┆ me[ ┆ eti ┆     ┆     │\n",
      "│     ┆     ┆     ┆     ┆     ┆ me[ ┆ me[ ┆ me[ ┆ me[ ┆ me[ ┆     ┆     ┆     ┆     ┆     ┆     ┆     ┆ μs] ┆ me[ ┆     ┆     │\n",
      "│     ┆     ┆     ┆     ┆     ┆ μs] ┆ μs] ┆ μs] ┆ μs] ┆ μs] ┆     ┆     ┆     ┆     ┆     ┆     ┆     ┆     ┆ μs] ┆     ┆     │\n",
      "╞═════╪═════╪═════╪═════╪═════╪═════╪═════╪═════╪═════╪═════╪═════╪═════╪═════╪═════╪═════╪═════╪═════╪═════╪═════╪═════╪═════╡\n",
      "│ ALV ┆ EDW ┆ 705 ┆ CHO ┆ 202 ┆ 202 ┆ 202 ┆ 202 ┆ 202 ┆ 202 ┆ EDW ┆ 193 ┆ 120 ┆ 3   ┆ 38. ┆ 165 ┆ > 1 ┆ 202 ┆ 202 ┆ 261 ┆ > 1 │\n",
      "│ ARE ┆ IN  ┆ 803 ┆ FER ┆ 0-0 ┆ 1-0 ┆ 2-0 ┆ 3-0 ┆ 4-0 ┆ 5-1 ┆ IN  ┆ 0   ┆     ┆     ┆ 55  ┆     ┆ mes ┆ 5-0 ┆ 6-0 ┆     ┆ sem │\n",
      "│ S   ┆     ┆ 89  ┆ VEN ┆ 3-0 ┆ 6-0 ┆ 4-0 ┆ 6-0 ┆ 5-0 ┆ 2-0 ┆ ALV ┆     ┆     ┆     ┆     ┆     ┆     ┆ 3-0 ┆ 3-0 ┆     ┆ ana │\n",
      "│ HUA ┆     ┆     ┆ DED ┆ 7   ┆ 1   ┆ 1   ┆ 1   ┆ 1   ┆ 1   ┆ ARE ┆     ┆     ┆     ┆     ┆     ┆     ┆ 7   ┆ 7   ┆     ┆     │\n",
      "│ MAN ┆     ┆     ┆ OR  ┆ 00: ┆ 00: ┆ 00: ┆ 00: ┆ 00: ┆ 00: ┆ S   ┆     ┆     ┆     ┆     ┆     ┆     ┆ 00: ┆ 00: ┆     ┆     │\n",
      "│     ┆     ┆     ┆     ┆ 00: ┆ 00: ┆ 00: ┆ 00: ┆ 00: ┆ 00: ┆ HUA ┆     ┆     ┆     ┆     ┆     ┆     ┆ 00: ┆ 00: ┆     ┆     │\n",
      "│     ┆     ┆     ┆     ┆ 00  ┆ 00  ┆ 00  ┆ 00  ┆ 00  ┆ 00  ┆ MAN ┆     ┆     ┆     ┆     ┆     ┆     ┆ 00  ┆ 00  ┆     ┆     │\n",
      "└─────┴─────┴─────┴─────┴─────┴─────┴─────┴─────┴─────┴─────┴─────┴─────┴─────┴─────┴─────┴─────┴─────┴─────┴─────┴─────┴─────┘\n"
     ]
    }
   ],
   "source": [
    "import polars as pl\n",
    "\n",
    "dni = 72523985\n",
    "\n",
    "with pl.Config(tbl_cols=-1):\n",
    "    print(df.filter(pl.col(\"DNI\") == dni))\n",
    "\n",
    "importlib.reload(hg)\n",
    "\n",
    "html_resultado = hg.main(project_address, df, months, VACACION_GOZADA_ACTUAL_ESTADOS, dni)"
   ]
  },
  {
   "cell_type": "markdown",
   "id": "2d1db6a6",
   "metadata": {},
   "source": [
    "### Reporte de Alerta 1 (a una semana a entrar a vacaciones)"
   ]
  },
  {
   "cell_type": "code",
   "execution_count": null,
   "id": "918a8f6c",
   "metadata": {},
   "outputs": [],
   "source": []
  },
  {
   "cell_type": "markdown",
   "id": "302104ad",
   "metadata": {},
   "source": [
    "### Reporte de Alerta 2 (a una semana de cumplir aniversario)"
   ]
  }
 ],
 "metadata": {
  "kernelspec": {
   "display_name": "Python 3",
   "language": "python",
   "name": "python3"
  },
  "language_info": {
   "codemirror_mode": {
    "name": "ipython",
    "version": 3
   },
   "file_extension": ".py",
   "mimetype": "text/x-python",
   "name": "python",
   "nbconvert_exporter": "python",
   "pygments_lexer": "ipython3",
   "version": "3.13.3"
  }
 },
 "nbformat": 4,
 "nbformat_minor": 5
}
