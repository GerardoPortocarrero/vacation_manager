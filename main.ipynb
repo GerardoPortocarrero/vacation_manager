{
 "cells": [
  {
   "cell_type": "code",
   "execution_count": null,
   "id": "8e3cae2c",
   "metadata": {},
   "outputs": [],
   "source": [
    "from pathlib import Path\n",
    "import importlib\n",
    "import warnings\n",
    "import time\n",
    "import os\n",
    "import polars as pl\n",
    "from datetime import datetime\n",
    "import time\n",
    "warnings.filterwarnings(\"ignore\")  # Oculta todos los warnings\n",
    "\n",
    "# Mis modulos\n",
    "import process_data as dp\n",
    "import transform_data as td\n",
    "import html_generator as hg\n",
    "import send_email as sm\n",
    "import show_html as sh"
   ]
  },
  {
   "cell_type": "code",
   "execution_count": 42,
   "id": "2573b8ae",
   "metadata": {},
   "outputs": [
    {
     "name": "stdout",
     "output_type": "stream",
     "text": [
      "\n",
      "  ____           _                   _      \n",
      " / ___| ___  ___| |_ ___  _ __    __| | ___ \n",
      "| |  _ / _ \\/ __| __/ _ \\| '__|  / _` |/ _ \\\n",
      "| |_| |  __/\\__ \\ || (_) | |    | (_| |  __/\n",
      " \\____|\\___||___/\\__\\___/|_|     \\__,_|\\___|\n",
      "\n",
      "__     __                   _                       \n",
      "\\ \\   / /_ _  ___ __ _  ___(_) ___  _ __   ___  ___ \n",
      " \\ \\ / / _` |/ __/ _` |/ __| |/ _ \\| '_ \\ / _ \\/ __|\n",
      "  \\ V / (_| | (_| (_| | (__| | (_) | | | |  __/\\__ \\\n",
      "   \\_/ \\__,_|\\___\\__,_|\\___|_|\\___/|_| |_|\\___||___/\n",
      "\n",
      "    💥 VISUALIZADOR Y EDITOR DE VACACIONES 💥\n",
      "\n",
      "\n"
     ]
    }
   ],
   "source": [
    "# import pyfiglet\n",
    "# print(pyfiglet.figlet_format(\"Gestor de Vacaciones\"))\n",
    "\n",
    "banner = r\"\"\"\n",
    "  ____           _                   _      \n",
    " / ___| ___  ___| |_ ___  _ __    __| | ___ \n",
    "| |  _ / _ \\/ __| __/ _ \\| '__|  / _` |/ _ \\\n",
    "| |_| |  __/\\__ \\ || (_) | |    | (_| |  __/\n",
    " \\____|\\___||___/\\__\\___/|_|     \\__,_|\\___|\n",
    "                                            \n",
    "__     __                   _                       \n",
    "\\ \\   / /_ _  ___ __ _  ___(_) ___  _ __   ___  ___ \n",
    " \\ \\ / / _` |/ __/ _` |/ __| |/ _ \\| '_ \\ / _ \\/ __|\n",
    "  \\ V / (_| | (_| (_| | (__| | (_) | | | |  __/\\__ \\\n",
    "   \\_/ \\__,_|\\___\\__,_|\\___|_|\\___/|_| |_|\\___||___/\n",
    "\n",
    "    💥 VISUALIZADOR Y EDITOR DE VACACIONES 💥\n",
    "\"\"\"\n",
    "\n",
    "print(banner, end='\\n\\n')\n",
    "time.sleep(1)"
   ]
  },
  {
   "cell_type": "code",
   "execution_count": null,
   "id": "8ae20a73",
   "metadata": {},
   "outputs": [],
   "source": [
    "# Constantes\n",
    "this_year = datetime.today().date().year\n",
    "\n",
    "# Diccionarios\n",
    "months = {\n",
    "    1: 'Enero', 2: 'Febrero', 3: 'Marzo', 4: 'Abril', 5: 'Mayo', 6: 'Junio',\n",
    "    7: 'Julio', 8: 'Agosto', 9: 'Septiembre', 10: 'Octubre', \n",
    "    11: 'Noviembre', 12: 'Diciembre'\n",
    "}\n",
    "vacaciones = {\n",
    "    \"name\": \"Gestor de Vacaciones\",\n",
    "    \"file_name_xlsx\": \"DATOS_VACACIONES_2020-2025.xlsx\",\n",
    "    \"file_name_csv\": \"vacaciones_data.csv\",\n",
    "    \"sheet_name\": \"DATOS\",\n",
    "    \"relevant_columns\": [\n",
    "        'APELLIDOS',\n",
    "        'NOMBRES',\n",
    "        'DNI',\n",
    "        'CARGO',\n",
    "        'Fecha Ingreso',\n",
    "        'Vacaciones 2020-2021',\n",
    "        'Vacaciones 2021-2022',\n",
    "        'Vacaciones 2022-2023',\n",
    "        'Vacaciones 2023-2024',\n",
    "        'Vacaciones 2024-2025',\n",
    "    ],\n",
    "    \"new_columns\": [\n",
    "        \"DIAS_ACUMULADOS\",\n",
    "        \"VACACIONES_GOZADAS\",\n",
    "        \"VACACION_GOZADA_ACTUAL\", # 3 estados (No vacaciono, esta vacacionando, por vacacionar)\n",
    "        \"VACACIONES_ACUMULADAS\", # Dias de vacaciones acumuladas que tiene pendiente para gozar\n",
    "    ]\n",
    "}\n",
    "VACACION_GOZADA_ACTUAL_ESTADOS = {\n",
    "    0: f\"Vacaciones no aplicables\",\n",
    "    1: f\"Vacaciones {this_year} gozadas\",\n",
    "    2: \"Gozando vacaciones actualmente\",\n",
    "    3: f\"Vacaciones {this_year} por gozar\",\n",
    "}\n",
    "\n",
    "# Listas\n",
    "\n",
    "# Constantes\n",
    "project_address = r\"C:\\Informacion\\Otros\\RRHH\\Automatizacion\\vacation_manager\"\n",
    "CONSOLIDADO = 'consolidado.html'\n",
    "CONSOLIDADO_SUBJECT = 'Reporte consolidado de vacaciones'\n",
    "PERSONAL = 'personal.html'\n",
    "PERSONAL_SUBJECT = f'Reporte de vacaciones personal'\n",
    "VACACION = 'vacacion.html'\n",
    "VACACION_SUBJECT = 'ALERTA: Detección de vacaciones a gozar'\n",
    "ANIVERSARIO = 'aniversario.html'\n",
    "ANIVERSARIO_SUBJECT = 'ALERTA: Detección de aniversario'\n",
    "\n",
    "MAIL_TO = \"rrhh@ayacda.com; gportocarrerob@unsa.edu.pe;\"\n",
    "#MAIL_TO = \"gportocarrerob@unsa.edu.pe; ainformacion@ayacda.com\"\n",
    "MAIL_CC = \";\""
   ]
  },
  {
   "cell_type": "markdown",
   "id": "524a35a9",
   "metadata": {},
   "source": [
    "### Procesamiento de datos"
   ]
  },
  {
   "cell_type": "code",
   "execution_count": 44,
   "id": "3419305e",
   "metadata": {},
   "outputs": [],
   "source": [
    "importlib.reload(dp)\n",
    "\n",
    "df = dp.main(project_address, vacaciones)"
   ]
  },
  {
   "cell_type": "markdown",
   "id": "471f6597",
   "metadata": {},
   "source": [
    "### Transformacion de datos"
   ]
  },
  {
   "cell_type": "code",
   "execution_count": null,
   "id": "daa1d1a3",
   "metadata": {},
   "outputs": [
    {
     "name": "stdout",
     "output_type": "stream",
     "text": [
      "shape: (66, 21)\n",
      "┌───────────┬───────────┬──────────┬───────────┬───┬───────────┬───────────┬───────────┬───────────┐\n",
      "│ APELLIDOS ┆ NOMBRES   ┆ DNI      ┆ CARGO     ┆ … ┆ ANIVERSAR ┆ PROXIMO_A ┆ DIAS_PARA ┆ ALERTA_AN │\n",
      "│ ---       ┆ ---       ┆ ---      ┆ ---       ┆   ┆ IO_TEMP   ┆ NIVERSARI ┆ _ANIVERSA ┆ IVERSARIO │\n",
      "│ str       ┆ str       ┆ i64      ┆ str       ┆   ┆ ---       ┆ O         ┆ RIO       ┆ ---       │\n",
      "│           ┆           ┆          ┆           ┆   ┆ datetime[ ┆ ---       ┆ ---       ┆ str       │\n",
      "│           ┆           ┆          ┆           ┆   ┆ μs]       ┆ datetime[ ┆ i64       ┆           │\n",
      "│           ┆           ┆          ┆           ┆   ┆           ┆ μs]       ┆           ┆           │\n",
      "╞═══════════╪═══════════╪══════════╪═══════════╪═══╪═══════════╪═══════════╪═══════════╪═══════════╡\n",
      "│ ALVARES   ┆ EDWIN     ┆ 70580389 ┆ CHOFER    ┆ … ┆ 2025-03-0 ┆ 2026-03-0 ┆ 260       ┆ > 1       │\n",
      "│ HUAMAN    ┆           ┆          ┆ VENDEDOR  ┆   ┆ 7         ┆ 7         ┆           ┆ semana    │\n",
      "│           ┆           ┆          ┆           ┆   ┆ 00:00:00  ┆ 00:00:00  ┆           ┆           │\n",
      "│ ARAGON    ┆ ADOLFO    ┆ 72523985 ┆ AUXILIAR  ┆ … ┆ 2025-12-2 ┆ 2025-12-2 ┆ 190       ┆ > 1       │\n",
      "│ TORRES    ┆ SEBASTYAN ┆          ┆ DE        ┆   ┆ 7         ┆ 7         ┆           ┆ semana    │\n",
      "│           ┆           ┆          ┆ REPARTO   ┆   ┆ 00:00:00  ┆ 00:00:00  ┆           ┆           │\n",
      "│ AROTAYPE  ┆ MICHAEL   ┆ 71488038 ┆ AUXILIAR  ┆ … ┆ 2025-03-0 ┆ 2026-03-0 ┆ 261       ┆ > 1       │\n",
      "│ CCAMA     ┆ BRANDON   ┆          ┆ DE        ┆   ┆ 8         ┆ 8         ┆           ┆ semana    │\n",
      "│           ┆           ┆          ┆ REPARTO   ┆   ┆ 00:00:00  ┆ 00:00:00  ┆           ┆           │\n",
      "│ ATAJO     ┆ OSCAR     ┆ 74085088 ┆ AUXILIAR  ┆ … ┆ 2025-04-1 ┆ 2026-04-1 ┆ 294       ┆ > 1       │\n",
      "│ VELARDE   ┆ RAUL      ┆          ┆ DE        ┆   ┆ 0         ┆ 0         ┆           ┆ semana    │\n",
      "│           ┆           ┆          ┆ REPARTO   ┆   ┆ 00:00:00  ┆ 00:00:00  ┆           ┆           │\n",
      "│ AYALA     ┆ EDMUNDO   ┆ 75312839 ┆ ASESOR    ┆ … ┆ 2025-08-0 ┆ 2025-08-0 ┆ 42        ┆ > 1       │\n",
      "│ CCAHUANA  ┆           ┆          ┆ UNIVERSAL ┆   ┆ 1         ┆ 1         ┆           ┆ semana    │\n",
      "│           ┆           ┆          ┆           ┆   ┆ 00:00:00  ┆ 00:00:00  ┆           ┆           │\n",
      "│ …         ┆ …         ┆ …        ┆ …         ┆ … ┆ …         ┆ …         ┆ …         ┆ …         │\n",
      "│ YUCRA     ┆ ANA LUZ   ┆ 46682430 ┆ ASESOR    ┆ … ┆ 2025-12-2 ┆ 2025-12-2 ┆ 185       ┆ > 1       │\n",
      "│ JIMENEZ   ┆           ┆          ┆ UNIVERSAL ┆   ┆ 2         ┆ 2         ┆           ┆ semana    │\n",
      "│           ┆           ┆          ┆           ┆   ┆ 00:00:00  ┆ 00:00:00  ┆           ┆           │\n",
      "│ YUCRA     ┆ ROBIN     ┆ 72276143 ┆ CHOFER    ┆ … ┆ 2025-11-0 ┆ 2025-11-0 ┆ 134       ┆ > 1       │\n",
      "│ SOTO      ┆ WILFREDO  ┆          ┆ VENDEDOR  ┆   ┆ 1         ┆ 1         ┆           ┆ semana    │\n",
      "│           ┆           ┆          ┆           ┆   ┆ 00:00:00  ┆ 00:00:00  ┆           ┆           │\n",
      "│ ZAPANA    ┆ BRYAN     ┆ 48757234 ┆ AUXILIAR  ┆ … ┆ 2025-05-2 ┆ 2026-05-2 ┆ 341       ┆ > 1       │\n",
      "│ PINTO     ┆ ESTEBAN   ┆          ┆ DE        ┆   ┆ 7         ┆ 7         ┆           ┆ semana    │\n",
      "│           ┆           ┆          ┆ REPARTO   ┆   ┆ 00:00:00  ┆ 00:00:00  ┆           ┆           │\n",
      "│ ZAVALA    ┆ DIEGO     ┆ 70574571 ┆ AUXILIAR  ┆ … ┆ 2025-01-2 ┆ 2026-01-2 ┆ 216       ┆ > 1       │\n",
      "│ BARRIALES ┆ EDUARDO   ┆          ┆ DE        ┆   ┆ 2         ┆ 2         ┆           ┆ semana    │\n",
      "│           ┆           ┆          ┆ REPARTO   ┆   ┆ 00:00:00  ┆ 00:00:00  ┆           ┆           │\n",
      "│ DE PRUEBA ┆ SUJETO    ┆ 0        ┆ ASESOR    ┆ … ┆ 2025-06-2 ┆ 2025-06-2 ┆ 4         ┆ < 1       │\n",
      "│           ┆           ┆          ┆ UNIVERSAL ┆   ┆ 4         ┆ 4         ┆           ┆ semana    │\n",
      "│           ┆           ┆          ┆           ┆   ┆ 00:00:00  ┆ 00:00:00  ┆           ┆           │\n",
      "└───────────┴───────────┴──────────┴───────────┴───┴───────────┴───────────┴───────────┴───────────┘\n"
     ]
    }
   ],
   "source": [
    "importlib.reload(td)\n",
    "\n",
    "df = td.main(df)"
   ]
  },
  {
   "cell_type": "markdown",
   "id": "475a13ef",
   "metadata": {},
   "source": [
    "### Generacion de reportes"
   ]
  },
  {
   "cell_type": "code",
   "execution_count": null,
   "id": "25f25df8",
   "metadata": {},
   "outputs": [],
   "source": [
    "importlib.reload(hg)\n",
    "importlib.reload(sm)\n",
    "importlib.reload(sm)\n",
    "importlib.reload(sh)\n",
    "\n",
    "def send_reports(option, group_option):\n",
    "    hg.main(\n",
    "            project_address, \n",
    "            df, \n",
    "            months, \n",
    "            VACACION_GOZADA_ACTUAL_ESTADOS,\n",
    "            CONSOLIDADO,\n",
    "            PERSONAL, \n",
    "            VACACION, \n",
    "            ANIVERSARIO,\n",
    "            group_option\n",
    "        )\n",
    "    \n",
    "    if option == 1:\n",
    "        sh.main(project_address, CONSOLIDADO)\n",
    "        respuesta = input(\"\\n>> Enviar reporte al correo (si/no): \")        \n",
    "        if respuesta == \"si\" or respuesta == \"s\":\n",
    "            sm.main(project_address, MAIL_TO, MAIL_CC, CONSOLIDADO, CONSOLIDADO_SUBJECT)\n",
    "    \n",
    "    elif option == 2:\n",
    "        sh.main(project_address, PERSONAL)\n",
    "        respuesta = input(\"\\n>> Enviar reporte al correo (si/no): \")        \n",
    "        if respuesta == \"si\" or respuesta == \"s\":\n",
    "            sm.main(project_address, MAIL_TO, MAIL_CC, PERSONAL, PERSONAL_SUBJECT)\n",
    "\n",
    "    elif option == 3:\n",
    "        sh.main(project_address, VACACION)\n",
    "        respuesta = input(\"\\n>> Enviar alerta de vacaciones al correo (si/no): \")\n",
    "        if respuesta == \"si\" or respuesta == \"s\":\n",
    "            sm.main(project_address, MAIL_TO, MAIL_CC, VACACION, VACACION_SUBJECT)\n",
    "\n",
    "    elif option == 4:\n",
    "        sh.main(project_address, ANIVERSARIO)\n",
    "        respuesta = input(\"\\n>> Enviar alerta de aniversario al correo (si/no): \")\n",
    "        if respuesta == \"si\" or respuesta == \"s\":\n",
    "            sm.main(project_address, MAIL_TO, MAIL_CC, ANIVERSARIO, ANIVERSARIO_SUBJECT)\n",
    "\n",
    "    else:\n",
    "        print('[X] Opcion incorrecta [Introduza opcion valida]\\n')\n",
    "\n",
    "\n",
    "\n",
    "# 🔁 Bucle de confirmación\n",
    "while True:\n",
    "    # Seleccionar grupo de wssp\n",
    "    print(\"\\nSelecciona grupo de wssp:\")\n",
    "    print(\"  [1] Consolidado\")\n",
    "    print(\"  [2] Reporte personal\")\n",
    "    print(\"  [3] Alerta Vacaciones\")\n",
    "    print(\"  [4] Alerta Aniversario\")\n",
    "    print(\"  [5] Terminar proceso\")\n",
    "\n",
    "    group_option = int(input(\"\\n>> Opción (1 - 5): \"))\n",
    "\n",
    "    if group_option == 5 or group_option > 4:\n",
    "        print(\"\\n[✓] Proceso finalizado.\\n\")\n",
    "        break  # salir del bucle\n",
    "    else:        \n",
    "        send_reports(group_option, group_option)"
   ]
  },
  {
   "cell_type": "markdown",
   "id": "895d9d3f",
   "metadata": {},
   "source": [
    "### Limpiar carpeta"
   ]
  },
  {
   "cell_type": "code",
   "execution_count": null,
   "id": "e4eb9390",
   "metadata": {},
   "outputs": [],
   "source": [
    "carpeta = Path(project_address)\n",
    "#print(list(carpeta.glob('*.png')))\n",
    "\n",
    "# Eliminar archivos .html\n",
    "for imagen in carpeta.glob('*.html'):\n",
    "    imagen.unlink()  # .unlink() elimina el archivo"
   ]
  },
  {
   "cell_type": "markdown",
   "id": "45b2be86",
   "metadata": {},
   "source": [
    "### Export it as .py"
   ]
  },
  {
   "cell_type": "code",
   "execution_count": 67,
   "id": "93bbbac0",
   "metadata": {},
   "outputs": [
    {
     "name": "stdout",
     "output_type": "stream",
     "text": [
      "✅ Archivo .py creado sin la última celda.\n"
     ]
    }
   ],
   "source": [
    "import nbformat\n",
    "from nbconvert import PythonExporter\n",
    "\n",
    "# Cargar el notebook\n",
    "notebook_path = \"main.ipynb\"\n",
    "with open(notebook_path, \"r\", encoding=\"utf-8\") as f:\n",
    "    nb = nbformat.read(f, as_version=4)\n",
    "\n",
    "# Eliminar la última celda\n",
    "nb['cells'] = nb['cells'][:-1]\n",
    "\n",
    "# Convertir a script .py\n",
    "exporter = PythonExporter()\n",
    "codigo_python, _ = exporter.from_notebook_node(nb)\n",
    "\n",
    "# Guardar el archivo .py\n",
    "with open(\"main.py\", \"w\", encoding=\"utf-8\") as f:\n",
    "    f.write(codigo_python)\n",
    "\n",
    "print(\"✅ Archivo .py creado sin la última celda.\")"
   ]
  }
 ],
 "metadata": {
  "kernelspec": {
   "display_name": "Python 3",
   "language": "python",
   "name": "python3"
  },
  "language_info": {
   "codemirror_mode": {
    "name": "ipython",
    "version": 3
   },
   "file_extension": ".py",
   "mimetype": "text/x-python",
   "name": "python",
   "nbconvert_exporter": "python",
   "pygments_lexer": "ipython3",
   "version": "3.13.3"
  }
 },
 "nbformat": 4,
 "nbformat_minor": 5
}
