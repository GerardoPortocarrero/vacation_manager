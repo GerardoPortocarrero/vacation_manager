{
 "cells": [
  {
   "cell_type": "code",
   "execution_count": 88,
   "id": "8e3cae2c",
   "metadata": {},
   "outputs": [],
   "source": [
    "from pathlib import Path\n",
    "import importlib\n",
    "import warnings\n",
    "import time\n",
    "import os\n",
    "from datetime import datetime\n",
    "import time\n",
    "warnings.filterwarnings(\"ignore\")  # Oculta todos los warnings\n",
    "\n",
    "# Mis modulos\n",
    "import process_data as dp\n",
    "import transform_data as td"
   ]
  },
  {
   "cell_type": "code",
   "execution_count": 89,
   "id": "2573b8ae",
   "metadata": {},
   "outputs": [
    {
     "name": "stdout",
     "output_type": "stream",
     "text": [
      "\n",
      "  ____           _                   _      \n",
      " / ___| ___  ___| |_ ___  _ __    __| | ___ \n",
      "| |  _ / _ \\/ __| __/ _ \\| '__|  / _` |/ _ \\\n",
      "| |_| |  __/\\__ \\ || (_) | |    | (_| |  __/\n",
      " \\____|\\___||___/\\__\\___/|_|     \\__,_|\\___|\n",
      "\n",
      "__     __                   _                       \n",
      "\\ \\   / /_ _  ___ __ _  ___(_) ___  _ __   ___  ___ \n",
      " \\ \\ / / _` |/ __/ _` |/ __| |/ _ \\| '_ \\ / _ \\/ __|\n",
      "  \\ V / (_| | (_| (_| | (__| | (_) | | | |  __/\\__ \\\n",
      "   \\_/ \\__,_|\\___\\__,_|\\___|_|\\___/|_| |_|\\___||___/\n",
      "\n",
      "    💥 VISUALIZADOR Y EDITOR DE VACACIONES 💥\n",
      "\n",
      "\n"
     ]
    }
   ],
   "source": [
    "# import pyfiglet\n",
    "# print(pyfiglet.figlet_format(\"Gestor de Vacaciones\"))\n",
    "\n",
    "banner = r\"\"\"\n",
    "  ____           _                   _      \n",
    " / ___| ___  ___| |_ ___  _ __    __| | ___ \n",
    "| |  _ / _ \\/ __| __/ _ \\| '__|  / _` |/ _ \\\n",
    "| |_| |  __/\\__ \\ || (_) | |    | (_| |  __/\n",
    " \\____|\\___||___/\\__\\___/|_|     \\__,_|\\___|\n",
    "                                            \n",
    "__     __                   _                       \n",
    "\\ \\   / /_ _  ___ __ _  ___(_) ___  _ __   ___  ___ \n",
    " \\ \\ / / _` |/ __/ _` |/ __| |/ _ \\| '_ \\ / _ \\/ __|\n",
    "  \\ V / (_| | (_| (_| | (__| | (_) | | | |  __/\\__ \\\n",
    "   \\_/ \\__,_|\\___\\__,_|\\___|_|\\___/|_| |_|\\___||___/\n",
    "\n",
    "    💥 VISUALIZADOR Y EDITOR DE VACACIONES 💥\n",
    "\"\"\"\n",
    "\n",
    "print(banner, end='\\n\\n')\n",
    "time.sleep(1)"
   ]
  },
  {
   "cell_type": "code",
   "execution_count": null,
   "id": "8ae20a73",
   "metadata": {},
   "outputs": [],
   "source": [
    "# Constantes\n",
    "this_year = datetime.today().date().year\n",
    "\n",
    "# Diccionarios\n",
    "months = {\n",
    "    1: 'Enero', 2: 'Febrero', 3: 'Marzo', 4: 'Abril', 5: 'Mayo', 6: 'Junio',\n",
    "    7: 'Julio', 8: 'Agosto', 9: 'Septiembre', 10: 'Octubre', \n",
    "    11: 'Noviembre', 12: 'Diciembre'\n",
    "}\n",
    "vacaciones = {\n",
    "    \"name\": \"Gestor de Vacaciones\",\n",
    "    \"file_name_xlsx\": \"DATOS_VACACIONES_2020-2025.xlsx\",\n",
    "    \"file_name_csv\": \"vacaciones_data.csv\",\n",
    "    \"sheet_name\": \"DATOS\",\n",
    "    \"relevant_columns\": [\n",
    "        'APELLIDOS',\n",
    "        'NOMBRES',\n",
    "        'DNI',\n",
    "        'CARGO',\n",
    "        'Fecha Ingreso',\n",
    "        'Vacaciones 2020-2021',\n",
    "        'Vacaciones 2021-2022',\n",
    "        'Vacaciones 2022-2023',\n",
    "        'Vacaciones 2023-2024',\n",
    "        'Vacaciones 2024-2025',\n",
    "    ],\n",
    "    \"new_columns\": [\n",
    "        \"DIAS_ACUMULADOS\",\n",
    "        \"VACACIONES_GOZADAS\",\n",
    "        \"VACACION_GOZADA_ACTUAL\", # 3 estados (No vacaciono, esta vacacionando, por vacacionar)\n",
    "        \"VACACIONES_PENDIENTES\", # Dias de vacaciones acumuladas que tiene pendiente para gozar\n",
    "    ]\n",
    "}\n",
    "VACACION_GOZADA_ACTUAL_ESTADOS = {\n",
    "    0: f\"Vacaciones no aplicables\",\n",
    "    1: f\"Vacaciones del {this_year} gozadas\",\n",
    "    2: \"Gozando vacaciones actualmente\",\n",
    "    3: f\"Vacaciones del {this_year} por gozar\",\n",
    "}\n",
    "\n",
    "# Listas\n",
    "\n",
    "# Constantes\n",
    "project_address = r\"C:\\Informacion\\Otros\\RRHH\\Automatizacion\\vacation_manager\""
   ]
  },
  {
   "cell_type": "markdown",
   "id": "524a35a9",
   "metadata": {},
   "source": [
    "### Procesamiento de datos"
   ]
  },
  {
   "cell_type": "code",
   "execution_count": 91,
   "id": "3419305e",
   "metadata": {},
   "outputs": [
    {
     "name": "stdout",
     "output_type": "stream",
     "text": [
      "Schema({'APELLIDOS': String, 'NOMBRES': String, 'DNI': Int64, 'CARGO': String, 'Fecha Ingreso': String, 'Vacaciones 2020-2021': String, 'Vacaciones 2021-2022': String, 'Vacaciones 2022-2023': String, 'Vacaciones 2023-2024': String, 'Vacaciones 2024-2025': String})\n"
     ]
    }
   ],
   "source": [
    "importlib.reload(dp)\n",
    "\n",
    "df = dp.main(project_address, vacaciones)"
   ]
  },
  {
   "cell_type": "markdown",
   "id": "471f6597",
   "metadata": {},
   "source": [
    "### Transformacion de datos"
   ]
  },
  {
   "cell_type": "code",
   "execution_count": 92,
   "id": "daa1d1a3",
   "metadata": {},
   "outputs": [
    {
     "name": "stdout",
     "output_type": "stream",
     "text": [
      "shape: (65, 16)\n",
      "┌───────────┬───────────┬──────────┬───────────┬───┬───────────┬───────────┬───────────┬───────────┐\n",
      "│ APELLIDOS ┆ NOMBRES   ┆ DNI      ┆ CARGO     ┆ … ┆ VACACION_ ┆ ANIVERSAR ┆ VACACIONE ┆ VACACIONE │\n",
      "│ ---       ┆ ---       ┆ ---      ┆ ---       ┆   ┆ GOZADA_AC ┆ IO        ┆ S_PROPORC ┆ S_PENDIEN │\n",
      "│ str       ┆ str       ┆ i64      ┆ str       ┆   ┆ TUAL      ┆ ---       ┆ IONALES   ┆ TES       │\n",
      "│           ┆           ┆          ┆           ┆   ┆ ---       ┆ datetime[ ┆ ---       ┆ ---       │\n",
      "│           ┆           ┆          ┆           ┆   ┆ i32       ┆ μs]       ┆ f64       ┆ f64       │\n",
      "╞═══════════╪═══════════╪══════════╪═══════════╪═══╪═══════════╪═══════════╪═══════════╪═══════════╡\n",
      "│ ALVARES   ┆ EDWIN     ┆ 70580389 ┆ CHOFER    ┆ … ┆ 3         ┆ 2024-03-0 ┆ 38.547945 ┆ 38.55     │\n",
      "│ HUAMAN    ┆           ┆          ┆ VENDEDOR  ┆   ┆           ┆ 7         ┆           ┆           │\n",
      "│           ┆           ┆          ┆           ┆   ┆           ┆ 00:00:00  ┆           ┆           │\n",
      "│ ARAGON    ┆ ADOLFO    ┆ 72523985 ┆ AUXILIAR  ┆ … ┆ 0         ┆ 2024-12-2 ┆ 14.30137  ┆ 14.3      │\n",
      "│ TORRES    ┆ SEBASTYAN ┆          ┆ DE        ┆   ┆           ┆ 7         ┆           ┆           │\n",
      "│           ┆           ┆          ┆ REPARTO   ┆   ┆           ┆ 00:00:00  ┆           ┆           │\n",
      "│ AROTAYPE  ┆ MICHAEL   ┆ 71488038 ┆ AUXILIAR  ┆ … ┆ 0         ┆ 2024-03-0 ┆ 38.465753 ┆ 38.47     │\n",
      "│ CCAMA     ┆ BRANDON   ┆          ┆ DE        ┆   ┆           ┆ 8         ┆           ┆           │\n",
      "│           ┆           ┆          ┆ REPARTO   ┆   ┆           ┆ 00:00:00  ┆           ┆           │\n",
      "│ ATAJO     ┆ OSCAR     ┆ 74085088 ┆ AUXILIAR  ┆ … ┆ 0         ┆ 2024-04-1 ┆ 35.753425 ┆ 35.75     │\n",
      "│ VELARDE   ┆ RAUL      ┆          ┆ DE        ┆   ┆           ┆ 0         ┆           ┆           │\n",
      "│           ┆           ┆          ┆ REPARTO   ┆   ┆           ┆ 00:00:00  ┆           ┆           │\n",
      "│ AYALA     ┆ EDMUNDO   ┆ 75312839 ┆ ASESOR    ┆ … ┆ 3         ┆ 2024-08-0 ┆ 26.465753 ┆ 26.47     │\n",
      "│ CCAHUANA  ┆           ┆          ┆ UNIVERSAL ┆   ┆           ┆ 1         ┆           ┆           │\n",
      "│           ┆           ┆          ┆           ┆   ┆           ┆ 00:00:00  ┆           ┆           │\n",
      "│ …         ┆ …         ┆ …        ┆ …         ┆ … ┆ …         ┆ …         ┆ …         ┆ …         │\n",
      "│ YANQUI    ┆ LUIS      ┆ 70580081 ┆ AUXILIAR  ┆ … ┆ 0         ┆ 2024-02-0 ┆ 41.424658 ┆ 41.42     │\n",
      "│ CHOQUECON ┆ ALBERTO   ┆          ┆ DE        ┆   ┆           ┆ 1         ┆           ┆           │\n",
      "│ DO        ┆           ┆          ┆ REPARTO   ┆   ┆           ┆ 00:00:00  ┆           ┆           │\n",
      "│ YUCRA     ┆ ANA LUZ   ┆ 46682430 ┆ ASESOR    ┆ … ┆ 3         ┆ 2024-12-2 ┆ 14.712329 ┆ 14.71     │\n",
      "│ JIMENEZ   ┆           ┆          ┆ UNIVERSAL ┆   ┆           ┆ 2         ┆           ┆           │\n",
      "│           ┆           ┆          ┆           ┆   ┆           ┆ 00:00:00  ┆           ┆           │\n",
      "│ YUCRA     ┆ ROBIN     ┆ 72276143 ┆ CHOFER    ┆ … ┆ 3         ┆ 2024-11-0 ┆ 18.90411  ┆ 18.9      │\n",
      "│ SOTO      ┆ WILFREDO  ┆          ┆ VENDEDOR  ┆   ┆           ┆ 1         ┆           ┆           │\n",
      "│           ┆           ┆          ┆           ┆   ┆           ┆ 00:00:00  ┆           ┆           │\n",
      "│ ZAPANA    ┆ BRYAN     ┆ 48757234 ┆ AUXILIAR  ┆ … ┆ 0         ┆ 2024-05-2 ┆ 31.890411 ┆ 31.89     │\n",
      "│ PINTO     ┆ ESTEBAN   ┆          ┆ DE        ┆   ┆           ┆ 7         ┆           ┆           │\n",
      "│           ┆           ┆          ┆ REPARTO   ┆   ┆           ┆ 00:00:00  ┆           ┆           │\n",
      "│ ZAVALA    ┆ DIEGO     ┆ 70574571 ┆ AUXILIAR  ┆ … ┆ 0         ┆ 2024-01-2 ┆ 42.246575 ┆ 42.25     │\n",
      "│ BARRIALES ┆ EDUARDO   ┆          ┆ DE        ┆   ┆           ┆ 2         ┆           ┆           │\n",
      "│           ┆           ┆          ┆ REPARTO   ┆   ┆           ┆ 00:00:00  ┆           ┆           │\n",
      "└───────────┴───────────┴──────────┴───────────┴───┴───────────┴───────────┴───────────┴───────────┘\n"
     ]
    }
   ],
   "source": [
    "importlib.reload(td)\n",
    "\n",
    "df = td.main(df)\n",
    "\n",
    "print(df)"
   ]
  }
 ],
 "metadata": {
  "kernelspec": {
   "display_name": "Python 3",
   "language": "python",
   "name": "python3"
  },
  "language_info": {
   "codemirror_mode": {
    "name": "ipython",
    "version": 3
   },
   "file_extension": ".py",
   "mimetype": "text/x-python",
   "name": "python",
   "nbconvert_exporter": "python",
   "pygments_lexer": "ipython3",
   "version": "3.13.3"
  }
 },
 "nbformat": 4,
 "nbformat_minor": 5
}
